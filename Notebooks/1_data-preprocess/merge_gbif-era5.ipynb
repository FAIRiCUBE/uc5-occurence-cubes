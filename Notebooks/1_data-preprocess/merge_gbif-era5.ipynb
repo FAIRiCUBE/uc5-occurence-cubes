{
 "cells": [
  {
   "cell_type": "code",
   "execution_count": null,
   "id": "678ef70b-e474-445e-9486-3c53cd3f6342",
   "metadata": {
    "tags": []
   },
   "outputs": [],
   "source": [
    "#from urllib.request import urlopen\n",
    "import pandas as pd\n",
    "import plotly.express as px\n",
    "\n",
    "import xarray as xr\n",
    "import numpy as np"
   ]
  },
  {
   "cell_type": "code",
   "execution_count": null,
   "id": "f38025e3-4e55-4f3c-93ee-8147ca9807f7",
   "metadata": {
    "tags": []
   },
   "outputs": [],
   "source": [
    "from dask.distributed import Client\n",
    "client = Client()\n",
    "client"
   ]
  },
  {
   "cell_type": "code",
   "execution_count": null,
   "id": "4693e6db-df72-468d-adb9-c4d73f1d8768",
   "metadata": {
    "tags": []
   },
   "outputs": [],
   "source": [
    "# Open multiple files at once\n",
    "xds = xr.open_mfdataset(\"/home/susannaioni/s3/data/era5/monthly/2m_temperature*\", parallel=True)\n",
    "# Different versions of data use version one but replace with version 5 if present\n",
    "xds = xds.sel(expver=1).combine_first(xds.sel(expver=5))"
   ]
  },
  {
   "cell_type": "code",
   "execution_count": null,
   "id": "43b69407-6655-4046-bc5a-e3d5bf3f5fa1",
   "metadata": {
    "tags": []
   },
   "outputs": [],
   "source": [
    "# Convert longitude from 0 - 360 -> -180 - 180\n",
    "xds.coords['longitude'] = (xds.coords['longitude'] + 180) % 360 - 180\n",
    "xds = xds.sortby(xds.longitude)"
   ]
  },
  {
   "cell_type": "code",
   "execution_count": null,
   "id": "57626491-9749-4cbf-a529-b78b6c8aa716",
   "metadata": {
    "tags": []
   },
   "outputs": [],
   "source": [
    "# Invert latitude order\n",
    "xds = xds.isel(latitude=slice(None, None, -1))"
   ]
  },
  {
   "cell_type": "markdown",
   "id": "6af9ed5c-ce47-4b77-92bb-77665364253d",
   "metadata": {},
   "source": [
    "# GBIF data"
   ]
  },
  {
   "cell_type": "markdown",
   "id": "05650a27-7025-4190-92c3-b4a4d3cb3a37",
   "metadata": {},
   "source": [
    "Check only 2 rows of data for columns we need"
   ]
  },
  {
   "cell_type": "code",
   "execution_count": null,
   "id": "35cbd87b-bc89-42ba-ab9c-dab5442a6b10",
   "metadata": {
    "tags": []
   },
   "outputs": [],
   "source": [
    "# Example load csv in order to choose the columns we need\n",
    "pdf_gbif = pd.read_csv(\"/home/susannaioni/s3/data/gbif/R_Ferr/occurrence.txt\", sep=\"\\t\", nrows=2)\n",
    "\n",
    "# We need this setting to display all columns\n",
    "pd.set_option('display.max_columns', None)\n",
    "pdf_gbif"
   ]
  },
  {
   "cell_type": "markdown",
   "id": "cb3bef89-7e55-40ee-be95-96baa28e15ea",
   "metadata": {
    "tags": []
   },
   "source": [
    "Load whole dataset, we now know the stuff"
   ]
  },
  {
   "cell_type": "code",
   "execution_count": null,
   "id": "d72f1de8-52ad-479b-8e0a-63133853029c",
   "metadata": {
    "tags": []
   },
   "outputs": [],
   "source": [
    "# https://docs.dask.org/en/stable/dataframe-best-practices.html\n",
    "# Load occurance dataset with selected columns and specified datatypes\n",
    "pdf_gbif = pd.read_csv(\"/home/susannaioni/s3/data/gbif/R_Ferr/occurrence.txt\", \n",
    "                  sep=\"\\t\", \n",
    "                  index_col=\"gbifID\",\n",
    "                  usecols=[\"gbifID\", \n",
    "                           \"collectionCode\", \n",
    "                           \"basisOfRecord\", \n",
    "                           \"eventDate\", \n",
    "                           \"year\",\n",
    "                           \"month\",\n",
    "                           \"day\",\n",
    "                           \"decimalLatitude\", \n",
    "                           \"decimalLongitude\",\n",
    "                           \"coordinateUncertaintyInMeters\",\n",
    "                           \"scientificName\"\n",
    "                          ],\n",
    "                  #parse_dates=[4],\n",
    "                  dtype={\"year\":\"Int32\",\n",
    "                         \"month\":\"Int32\",\n",
    "                         \"day\":\"Int32\",\n",
    "                         \"decimalLatitude\":\"Float32\",\n",
    "                         \"decimalLongitude\":\"Float32\",\n",
    "                         \"coordinateUncertaintyInMeters\":\"Float32\",\n",
    "                         \"scientificName\":\"str\"},\n",
    "                   #na_values=[\"NA\"]\n",
    "                 )"
   ]
  },
  {
   "cell_type": "code",
   "execution_count": null,
   "id": "2018f153-0908-4b80-9189-7ef8ac178434",
   "metadata": {
    "tags": []
   },
   "outputs": [],
   "source": [
    "# Drop all rows with nan values in year or month\n",
    "pdf_gbif = pdf_gbif.dropna(subset=['year','month'])\n",
    "# Only use data with year bigger/equal 1940 and smaller/equal 2023 and sort by date\n",
    "pdf_gbif = pdf_gbif[(pdf_gbif.year>=1940) & (pdf_gbif.year<=2023)].sort_values(by=[\"year\",\"month\",\"day\"])\n",
    "# New time column with year and month as string\n",
    "pdf_gbif['date'] = pdf_gbif['year'].astype(str) + '-' + pdf_gbif['month'].astype(str)\n",
    "# Convert string to datetime\n",
    "pdf_gbif['date'] = pd.to_datetime(pdf_gbif['date'], format='%Y-%m')"
   ]
  },
  {
   "cell_type": "markdown",
   "id": "3ed6a225-86b3-4ad7-ab0c-03d9ef5ce57f",
   "metadata": {},
   "source": [
    "# Combine era5 and gbif data"
   ]
  },
  {
   "cell_type": "code",
   "execution_count": null,
   "id": "f47f2eec-0488-4291-9e01-c8165dc4b4bf",
   "metadata": {},
   "outputs": [],
   "source": [
    "# Use gbif occurance data and extract nearest temperature value with sel\n",
    "xds_nearest = xds.sel(latitude=pdf_gbif.decimalLatitude.to_xarray(),\n",
    "                      longitude=pdf_gbif.decimalLongitude.to_xarray(), \n",
    "                      time=pdf_gbif.date.to_xarray(), \n",
    "                      method=\"nearest\")"
   ]
  },
  {
   "cell_type": "code",
   "execution_count": null,
   "id": "9fc8c8f4-b16a-4217-881b-e872326dce74",
   "metadata": {},
   "outputs": [],
   "source": [
    "# Convert xarray object to dataframe\n",
    "#pd_xds = xds_nearest.to_dask_dataframe(set_index=\"gbifID\")\n",
    "pdf_era5 = xds_nearest.to_dataframe().add_prefix(\"era5_\")"
   ]
  },
  {
   "cell_type": "code",
   "execution_count": null,
   "id": "424c1fcf-cdd3-4346-96e0-dae3aa200e71",
   "metadata": {
    "tags": []
   },
   "outputs": [],
   "source": [
    "# Merge dataframes\n",
    "merged_df = pd.merge(pdf_gbif, pdf_era5, on=['gbifID'], how='inner')"
   ]
  },
  {
   "cell_type": "code",
   "execution_count": null,
   "id": "7481c075-4b9a-4915-b962-2841b2831a39",
   "metadata": {
    "tags": []
   },
   "outputs": [],
   "source": [
    "# Write merged dataframe to disk\n",
    "merged_df.to_parquet(\"/home/susannaioni/s3/data/merged/gbif_era5_t2m.parquet\", index=\"gbifID\")"
   ]
  },
  {
   "cell_type": "markdown",
   "id": "52893832-c498-4dca-890f-426e2d0278f5",
   "metadata": {},
   "source": [
    "### Plotting Example Data"
   ]
  },
  {
   "cell_type": "markdown",
   "id": "d48d60fa-cf02-4820-9564-eac033b121bf",
   "metadata": {},
   "source": [
    "#### ERA5 subset"
   ]
  },
  {
   "cell_type": "code",
   "execution_count": null,
   "id": "4af41390-74cd-4c6f-969e-294f631ee47f",
   "metadata": {
    "tags": []
   },
   "outputs": [],
   "source": [
    "xda_t2m = xds.sel(latitude=slice(33.431441,72.816074), longitude=slice(-26.191406, 39.375000), time=slice(\"1940\",\"1945\"))[\"t2m\"]"
   ]
  },
  {
   "cell_type": "code",
   "execution_count": null,
   "id": "f0025973-8350-49db-a058-760819f1b04d",
   "metadata": {
    "tags": []
   },
   "outputs": [],
   "source": [
    "fig = px.imshow(xda_t2m, \n",
    "                animation_frame='time', \n",
    "                zmin=250, \n",
    "                zmax=300, \n",
    "                color_continuous_scale='RdBu_r',\n",
    "                width=800, \n",
    "                height=800)\n",
    "fig.update_layout(\n",
    "    yaxis = dict(autorange=False)\n",
    ")\n",
    "fig.show()"
   ]
  },
  {
   "cell_type": "markdown",
   "id": "5db5f7cb-b710-42b3-93cd-9e25358ac95b",
   "metadata": {},
   "source": [
    "#### GBIF Subset"
   ]
  },
  {
   "cell_type": "code",
   "execution_count": null,
   "id": "932ff6b6-990a-4d55-b6c1-dcb7888108b7",
   "metadata": {
    "tags": []
   },
   "outputs": [],
   "source": [
    "fig = px.scatter_geo(pdf_gbif[(pdf_gbif.year>=1940) & (pdf_gbif.year<=1950)],\n",
    "                     lon = \"decimalLongitude\", \n",
    "                     lat = \"decimalLatitude\", \n",
    "                     width=800, \n",
    "                     height=400, \n",
    "                     fitbounds=\"locations\", \n",
    "                     hover_data=[\"scientificName\",\"coordinateUncertaintyInMeters\"])\n",
    "fig.show()"
   ]
  }
 ],
 "metadata": {
  "kernelspec": {
   "display_name": ".conda-hda_1.19",
   "language": "python",
   "name": "conda-env-.conda-hda_1.19-py"
  },
  "language_info": {
   "codemirror_mode": {
    "name": "ipython",
    "version": 3
   },
   "file_extension": ".py",
   "mimetype": "text/x-python",
   "name": "python",
   "nbconvert_exporter": "python",
   "pygments_lexer": "ipython3",
   "version": "3.12.2"
  }
 },
 "nbformat": 4,
 "nbformat_minor": 5
}
