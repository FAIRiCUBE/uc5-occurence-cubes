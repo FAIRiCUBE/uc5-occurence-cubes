{
 "cells": [
  {
   "cell_type": "markdown",
   "id": "5b3dbb56-6b5d-4287-b737-35a2ea1c538a",
   "metadata": {
    "tags": []
   },
   "source": [
    "# Use ado-downloader from Georg\n",
    "\n",
    "https://github.com/geoase/ado-downloader\n",
    "\n",
    "Possibility to download multiple files at once using multiprocessing and splitting by different attributes (e.g. year, month, variable ...)"
   ]
  },
  {
   "cell_type": "code",
   "execution_count": null,
   "id": "8fdd6bce-21ee-4108-922c-68b860965031",
   "metadata": {},
   "outputs": [],
   "source": [
    "from cds_downloader import Downloader\n",
    "  \n",
    "test_downloader = Downloader.from_cds(\n",
    "  'reanalysis-era5-single-levels-monthly-means',\n",
    "    {\n",
    "        'product_type': 'monthly_averaged_reanalysis',\n",
    "        'variable': [\n",
    "            '2m_temperature', 'potential_evaporation', 'precipitation_type',\n",
    "            'runoff', 'soil_temperature_level_1', 'soil_temperature_level_2',\n",
    "            'soil_temperature_level_3', 'soil_temperature_level_4', 'soil_type',\n",
    "            'surface_net_solar_radiation', 'surface_runoff', 'temperature_of_snow_layer',\n",
    "            'total_precipitation', 'volumetric_soil_water_layer_1', 'volumetric_soil_water_layer_2',\n",
    "            'volumetric_soil_water_layer_3', 'volumetric_soil_water_layer_4',\n",
    "        ],\n",
    "        'year': [\n",
    "            '1940', '1941', '1942',\n",
    "            \n",
    "        ],\n",
    "        'month': [\n",
    "            '01', '02', '03',\n",
    "            '04', '05', '06',\n",
    "            '07', '08', '09',\n",
    "            '10', '11', '12',\n",
    "        ],\n",
    "        'time': '00:00',\n",
    "        'format': 'netcdf',\n",
    "  }\n",
    ")\n",
    "\n",
    "test_downloader.get_data(\"/home/susannaioni/s3/data/era5/monthly\", [\"variable\",\"year\"])"
   ]
  },
  {
   "cell_type": "markdown",
   "id": "911b4c63-d37a-459a-9b92-0c45637db261",
   "metadata": {},
   "source": [
    "# Use cdsapi directly"
   ]
  },
  {
   "cell_type": "code",
   "execution_count": null,
   "id": "7dfede05-464a-497d-802e-8f151fdd7656",
   "metadata": {
    "tags": []
   },
   "outputs": [],
   "source": [
    "import cdsapi\n",
    "\n",
    "c = cdsapi.Client()\n",
    "\n",
    "c.retrieve(\n",
    "    'reanalysis-era5-single-levels-monthly-means',\n",
    "    {\n",
    "        'product_type': 'monthly_averaged_reanalysis',\n",
    "        'variable': [\n",
    "            '2m_temperature', 'potential_evaporation', 'precipitation_type',\n",
    "            'runoff', 'soil_temperature_level_1', 'soil_temperature_level_2',\n",
    "            'soil_temperature_level_3', 'soil_temperature_level_4', 'soil_type',\n",
    "            'surface_net_solar_radiation', 'surface_runoff', 'temperature_of_snow_layer',\n",
    "            'total_precipitation', 'volumetric_soil_water_layer_1', 'volumetric_soil_water_layer_2',\n",
    "            'volumetric_soil_water_layer_3', 'volumetric_soil_water_layer_4',\n",
    "        ],\n",
    "        'year': [\n",
    "            '1940', '1941', '1942',\n",
    "            '1943', '1944', '1945',\n",
    "            '1946', '1947', '1948',\n",
    "            '1949', '1950', '1951',\n",
    "            '1952', '1953', '1954',\n",
    "            '1955', '1956', '1957',\n",
    "            '1958', '1959', '1960',\n",
    "            '1961', '1962', '1963',\n",
    "            '1964', '1965', '1966',\n",
    "            '1967', '1968', '1969',\n",
    "            '1970', '1971', '1972',\n",
    "            '1973', '1974', '1975',\n",
    "            '1976', '1977', '1978',\n",
    "            '1979', '1980', '1981',\n",
    "            '1982', '1983', '1984',\n",
    "            '1985', '1986', '1987',\n",
    "            '1988', '1989', '1990',\n",
    "            '1991', '1992', '1993',\n",
    "            '1994', '1995', '1996',\n",
    "            '1997', '1998', '1999',\n",
    "            '2000', '2001', '2002',\n",
    "            '2003', '2004', '2005',\n",
    "            '2006', '2007', '2008',\n",
    "            '2009', '2010', '2011',\n",
    "            '2012', '2013', '2014',\n",
    "            '2015', '2016', '2017',\n",
    "            '2018', '2019', '2020',\n",
    "            '2021', '2022', '2023',\n",
    "            '2024',\n",
    "        ],\n",
    "        'month': [\n",
    "            '01', '02', '03',\n",
    "            '04', '05', '06',\n",
    "            '07', '08', '09',\n",
    "            '10', '11', '12',\n",
    "        ],\n",
    "        'time': '00:00',\n",
    "        'format': 'netcdf',\n",
    "    },\n",
    "    'download.nc')"
   ]
  }
 ],
 "metadata": {
  "kernelspec": {
   "display_name": ".conda-hda_1.19",
   "language": "python",
   "name": "conda-env-.conda-hda_1.19-py"
  },
  "language_info": {
   "codemirror_mode": {
    "name": "ipython",
    "version": 3
   },
   "file_extension": ".py",
   "mimetype": "text/x-python",
   "name": "python",
   "nbconvert_exporter": "python",
   "pygments_lexer": "ipython3",
   "version": "3.12.2"
  }
 },
 "nbformat": 4,
 "nbformat_minor": 5
}
