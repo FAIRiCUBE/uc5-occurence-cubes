{
 "cells": [
  {
   "cell_type": "markdown",
   "id": "27a80430-d0e4-4329-b594-449a84cd3f38",
   "metadata": {},
   "source": [
    "# Conda Environments\n",
    "\n",
    "Commands on Terminal:\n",
    "\n",
    "`conda info --envs` ... list environments\n",
    "\n",
    "`conda activate hda_1.19` ... use environment with name hda_1.19"
   ]
  },
  {
   "cell_type": "code",
   "execution_count": 1,
   "id": "58da219c-e458-4836-8b10-1a113f4b9c5d",
   "metadata": {
    "tags": []
   },
   "outputs": [],
   "source": [
    "import pandas as pd\n",
    "import geopandas as gpd\n",
    "from shapely.geometry import Point\n",
    "\n",
    "import xarray as xr\n",
    "#import xesmf as xe\n",
    "\n",
    "import rioxarray\n",
    "import rasterio\n",
    "import shapely\n"
   ]
  },
  {
   "cell_type": "code",
   "execution_count": 2,
   "id": "e809ba36-46ba-479c-b18c-b569777a247e",
   "metadata": {
    "tags": []
   },
   "outputs": [
    {
     "ename": "SyntaxError",
     "evalue": "invalid syntax (854277619.py, line 1)",
     "output_type": "error",
     "traceback": [
      "\u001b[0;36m  Cell \u001b[0;32mIn[2], line 1\u001b[0;36m\u001b[0m\n\u001b[0;31m    wget \"https://cds.climate.copernicus.eu/cdsapp#!/yourrequests?tab=form\"\u001b[0m\n\u001b[0m         ^\u001b[0m\n\u001b[0;31mSyntaxError\u001b[0m\u001b[0;31m:\u001b[0m invalid syntax\n"
     ]
    }
   ],
   "source": [
    "# Shell command. Use it in Terminal\n",
    "wget \"https://cds.climate.copernicus.eu/cdsapp#!/yourrequests?tab=form\""
   ]
  },
  {
   "cell_type": "code",
   "execution_count": 12,
   "id": "7dfede05-464a-497d-802e-8f151fdd7656",
   "metadata": {
    "tags": []
   },
   "outputs": [
    {
     "ename": "ModuleNotFoundError",
     "evalue": "No module named 'cdsapi'",
     "output_type": "error",
     "traceback": [
      "\u001b[0;31m---------------------------------------------------------------------------\u001b[0m",
      "\u001b[0;31mModuleNotFoundError\u001b[0m                       Traceback (most recent call last)",
      "Cell \u001b[0;32mIn[12], line 1\u001b[0m\n\u001b[0;32m----> 1\u001b[0m \u001b[38;5;28;01mimport\u001b[39;00m \u001b[38;5;21;01mcdsapi\u001b[39;00m\n\u001b[1;32m      3\u001b[0m c \u001b[38;5;241m=\u001b[39m cdsapi\u001b[38;5;241m.\u001b[39mClient()\n\u001b[1;32m      5\u001b[0m c\u001b[38;5;241m.\u001b[39mretrieve(\n\u001b[1;32m      6\u001b[0m     \u001b[38;5;124m'\u001b[39m\u001b[38;5;124mreanalysis-era5-single-levels-monthly-means\u001b[39m\u001b[38;5;124m'\u001b[39m,\n\u001b[1;32m      7\u001b[0m     {\n\u001b[0;32m   (...)\u001b[0m\n\u001b[1;32m     56\u001b[0m     },\n\u001b[1;32m     57\u001b[0m     \u001b[38;5;124m'\u001b[39m\u001b[38;5;124mdownload.nc\u001b[39m\u001b[38;5;124m'\u001b[39m)\n",
      "\u001b[0;31mModuleNotFoundError\u001b[0m: No module named 'cdsapi'"
     ]
    }
   ],
   "source": [
    "import cdsapi\n",
    "\n",
    "c = cdsapi.Client()\n",
    "\n",
    "c.retrieve(\n",
    "    'reanalysis-era5-single-levels-monthly-means',\n",
    "    {\n",
    "        'product_type': 'monthly_averaged_reanalysis',\n",
    "        'variable': [\n",
    "            '2m_temperature', 'potential_evaporation', 'precipitation_type',\n",
    "            'runoff', 'soil_temperature_level_1', 'soil_temperature_level_2',\n",
    "            'soil_temperature_level_3', 'soil_temperature_level_4', 'soil_type',\n",
    "            'surface_net_solar_radiation', 'surface_runoff', 'temperature_of_snow_layer',\n",
    "            'total_precipitation', 'volumetric_soil_water_layer_1', 'volumetric_soil_water_layer_2',\n",
    "            'volumetric_soil_water_layer_3', 'volumetric_soil_water_layer_4',\n",
    "        ],\n",
    "        'year': [\n",
    "            '1940', '1941', '1942',\n",
    "            '1943', '1944', '1945',\n",
    "            '1946', '1947', '1948',\n",
    "            '1949', '1950', '1951',\n",
    "            '1952', '1953', '1954',\n",
    "            '1955', '1956', '1957',\n",
    "            '1958', '1959', '1960',\n",
    "            '1961', '1962', '1963',\n",
    "            '1964', '1965', '1966',\n",
    "            '1967', '1968', '1969',\n",
    "            '1970', '1971', '1972',\n",
    "            '1973', '1974', '1975',\n",
    "            '1976', '1977', '1978',\n",
    "            '1979', '1980', '1981',\n",
    "            '1982', '1983', '1984',\n",
    "            '1985', '1986', '1987',\n",
    "            '1988', '1989', '1990',\n",
    "            '1991', '1992', '1993',\n",
    "            '1994', '1995', '1996',\n",
    "            '1997', '1998', '1999',\n",
    "            '2000', '2001', '2002',\n",
    "            '2003', '2004', '2005',\n",
    "            '2006', '2007', '2008',\n",
    "            '2009', '2010', '2011',\n",
    "            '2012', '2013', '2014',\n",
    "            '2015', '2016', '2017',\n",
    "            '2018', '2019', '2020',\n",
    "            '2021', '2022', '2023',\n",
    "            '2024',\n",
    "        ],\n",
    "        'month': [\n",
    "            '01', '02', '03',\n",
    "            '04', '05', '06',\n",
    "            '07', '08', '09',\n",
    "            '10', '11', '12',\n",
    "        ],\n",
    "        'time': '00:00',\n",
    "        'format': 'netcdf',\n",
    "    },\n",
    "    'download.nc')"
   ]
  },
  {
   "cell_type": "code",
   "execution_count": 14,
   "id": "0fef27f7-8c95-40fc-bd66-ab9cb27156dd",
   "metadata": {
    "tags": []
   },
   "outputs": [
    {
     "ename": "ModuleNotFoundError",
     "evalue": "No module named 'cdsapi'",
     "output_type": "error",
     "traceback": [
      "\u001b[0;31m---------------------------------------------------------------------------\u001b[0m",
      "\u001b[0;31mModuleNotFoundError\u001b[0m                       Traceback (most recent call last)",
      "Cell \u001b[0;32mIn[14], line 1\u001b[0m\n\u001b[0;32m----> 1\u001b[0m \u001b[38;5;28;01mimport\u001b[39;00m \u001b[38;5;21;01mcdsapi\u001b[39;00m\n",
      "\u001b[0;31mModuleNotFoundError\u001b[0m: No module named 'cdsapi'"
     ]
    }
   ],
   "source": [
    "import cdsapi"
   ]
  },
  {
   "cell_type": "code",
   "execution_count": null,
   "id": "b2e18e0a-ae79-4c8f-a57d-2bc5b1339738",
   "metadata": {},
   "outputs": [],
   "source": []
  }
 ],
 "metadata": {
  "kernelspec": {
   "display_name": ".conda-hda_1.19",
   "language": "python",
   "name": "conda-env-.conda-hda_1.19-py"
  },
  "language_info": {
   "codemirror_mode": {
    "name": "ipython",
    "version": 3
   },
   "file_extension": ".py",
   "mimetype": "text/x-python",
   "name": "python",
   "nbconvert_exporter": "python",
   "pygments_lexer": "ipython3",
   "version": "3.12.2"
  }
 },
 "nbformat": 4,
 "nbformat_minor": 5
}
